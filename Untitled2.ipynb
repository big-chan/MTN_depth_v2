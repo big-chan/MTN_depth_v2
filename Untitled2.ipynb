{
 "cells": [
  {
   "cell_type": "code",
   "execution_count": 7,
   "id": "80f42b0a-a346-46e9-8019-f78bcefcdf99",
   "metadata": {},
   "outputs": [],
   "source": [
    "import os\n",
    "import cv2\n",
    "\n",
    "Input=\"INPUT\"\n",
    "GT=\"GT\"\n",
    "DISP=\"DISP\"\n",
    "monodepth1=\"T_predict_2022\"\n",
    "RGB_predict=\"tmp/Kaist_GBNet_RGB_AdamW/models/weights_11\"\n",
    "Thermal_predict=\"tmp/Kaist_GBNet_thermal/models/weights_8\"\n",
    "Ours=\"tmp/Kaist_GBNet_thermal_distill_v2/models/weights_11\"\n"
   ]
  },
  {
   "cell_type": "code",
   "execution_count": 10,
   "id": "22652220-41f7-4a99-92c7-1e4d1c2d7848",
   "metadata": {},
   "outputs": [],
   "source": [
    "import numpy as np\n",
    "for i in range(1784):\n",
    "    RGB_path=os.path.join(RGB_predict,Input,\"%05d.png\"%i)\n",
    "    Thermal_path=os.path.join(Thermal_predict,Input,\"%05d.png\"%i)\n",
    "    GT_path=os.path.join(RGB_predict,GT,\"%05d.png\"%i)\n",
    "\n",
    "    monodepth1_path=os.path.join(monodepth1,DISP,\"%05d.png\"%i)\n",
    "    RGB_predict_path=os.path.join(RGB_predict,DISP,\"%05d.png\"%i)\n",
    "    Thermal_predict_path=os.path.join(Thermal_predict,DISP,\"%05d.png\"%i)\n",
    "    Ours_path=os.path.join(Ours,DISP,\"%05d.png\"%i)\n",
    "    \n",
    "    img1=cv2.imread(RGB_path)\n",
    "    img2=cv2.imread(Thermal_path)\n",
    "    img3=cv2.imread(GT_path)\n",
    "    \n",
    "    img4=cv2.imread(monodepth1_path)\n",
    "    # img5=cv2.imread(RGB_predict_path)\n",
    "    # img6=cv2.imread(Thermal_predict_path)\n",
    "    img7=cv2.imread(Ours_path)\n",
    "    # import pdb;pdb.set_trace()\n",
    "    total_img=np.hstack((img1,img2,img3,img4,img7))\n",
    "    cv2.imwrite(\"2022_viz/%05d.png\"%i,total_img)"
   ]
  },
  {
   "cell_type": "code",
   "execution_count": null,
   "id": "76303c5f-aa9d-4ea7-a1dd-da0d2d965543",
   "metadata": {},
   "outputs": [],
   "source": []
  }
 ],
 "metadata": {
  "kernelspec": {
   "display_name": "Python 3 (ipykernel)",
   "language": "python",
   "name": "python3"
  },
  "language_info": {
   "codemirror_mode": {
    "name": "ipython",
    "version": 3
   },
   "file_extension": ".py",
   "mimetype": "text/x-python",
   "name": "python",
   "nbconvert_exporter": "python",
   "pygments_lexer": "ipython3",
   "version": "3.7.11"
  }
 },
 "nbformat": 4,
 "nbformat_minor": 5
}
